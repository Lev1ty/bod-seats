{
 "cells": [
  {
   "cell_type": "markdown",
   "metadata": {
    "collapsed": true,
    "pycharm": {
     "name": "#%% md\n"
    }
   },
   "source": [
    "# Resampling"
   ]
  },
  {
   "cell_type": "code",
   "execution_count": 1,
   "outputs": [],
   "source": [
    "import pyspark\n",
    "\n",
    "from IPython.display import display\n",
    "from pyspark.sql.functions import *\n",
    "from pyspark.sql.types import *"
   ],
   "metadata": {
    "collapsed": false,
    "pycharm": {
     "name": "#%%\n"
    }
   }
  },
  {
   "cell_type": "code",
   "execution_count": 5,
   "outputs": [
    {
     "data": {
      "text/plain": "<pyspark.sql.session.SparkSession at 0x7fb17c694a30>",
      "text/html": "\n            <div>\n                <p><b>SparkSession - in-memory</b></p>\n                \n        <div>\n            <p><b>SparkContext</b></p>\n\n            <p><a href=\"http://130.113.183.13:4041\">Spark UI</a></p>\n\n            <dl>\n              <dt>Version</dt>\n                <dd><code>v3.1.1</code></dd>\n              <dt>Master</dt>\n                <dd><code>local[*]</code></dd>\n              <dt>AppName</dt>\n                <dd><code>bod-seats</code></dd>\n            </dl>\n        </div>\n        \n            </div>\n        "
     },
     "execution_count": 5,
     "metadata": {},
     "output_type": "execute_result"
    }
   ],
   "source": [
    "spark = (\n",
    "    pyspark.sql.SparkSession.builder\n",
    "    .master(\"local[*]\")\n",
    "    .appName(\"bod-seats\")\n",
    "    .config(\"spark.driver.memory\", \"16g\")\n",
    "    .getOrCreate()\n",
    ")\n",
    "spark"
   ],
   "metadata": {
    "collapsed": false,
    "pycharm": {
     "name": "#%%\n"
    }
   }
  },
  {
   "cell_type": "code",
   "execution_count": 27,
   "outputs": [
    {
     "name": "stdout",
     "output_type": "stream",
     "text": [
      "root\n",
      " |-- id: string (nullable = true)\n",
      " |-- label: byte (nullable = true)\n",
      " |-- text: struct (nullable = true)\n",
      " |    |-- input_ids: array (nullable = true)\n",
      " |    |    |-- element: short (containsNull = true)\n",
      " |    |-- attention_mask: array (nullable = true)\n",
      " |    |    |-- element: short (containsNull = true)\n",
      " |    |-- length: array (nullable = true)\n",
      " |    |    |-- element: integer (containsNull = true)\n",
      " |    |-- offset_mapping: array (nullable = true)\n",
      " |    |    |-- element: short (containsNull = true)\n",
      " |    |-- special_tokens_mask: array (nullable = true)\n",
      " |    |    |-- element: short (containsNull = true)\n",
      " |    |-- token_type_ids: array (nullable = true)\n",
      " |    |    |-- element: short (containsNull = true)\n",
      "\n",
      "+-------+--------------------+------------------+\n",
      "|summary|                  id|             label|\n",
      "+-------+--------------------+------------------+\n",
      "|  count|                7009|              7009|\n",
      "|   mean|                null|0.5856755599942931|\n",
      "| stddev|                null|1.8620673406563975|\n",
      "|    min|10870_BlueApron_C...|                 0|\n",
      "|    25%|                null|                 0|\n",
      "|    50%|                null|                 0|\n",
      "|    75%|                null|                 0|\n",
      "|    max|    zocdoc071009.pdf|                17|\n",
      "+-------+--------------------+------------------+\n",
      "\n",
      "+-------+--------------------+------------------+\n",
      "|summary|                  id|             label|\n",
      "+-------+--------------------+------------------+\n",
      "|  count|                 691|               691|\n",
      "|   mean|                null| 5.940665701881332|\n",
      "| stddev|                null|1.8323056251686924|\n",
      "|    min|11535_ZetaInterac...|                 1|\n",
      "|    25%|                null|                 5|\n",
      "|    50%|                null|                 5|\n",
      "|    75%|                null|                 7|\n",
      "|    max|veralight_inc0728...|                17|\n",
      "+-------+--------------------+------------------+\n",
      "\n"
     ]
    }
   ],
   "source": [
    "df = spark.read.format(\"parquet\").load(\"total.parquet\")\n",
    "df.printSchema()\n",
    "df.summary().show()\n",
    "df.where(col(\"label\") > 0).summary().show()"
   ],
   "metadata": {
    "collapsed": false,
    "pycharm": {
     "name": "#%%\n"
    }
   }
  },
  {
   "cell_type": "code",
   "execution_count": 25,
   "outputs": [
    {
     "name": "stdout",
     "output_type": "stream",
     "text": [
      "+-------+-----------------+\n",
      "|summary|           length|\n",
      "+-------+-----------------+\n",
      "|  count|             7009|\n",
      "|   mean| 3102.64060493651|\n",
      "| stddev|5388.423975393588|\n",
      "|    min|                2|\n",
      "|    25%|              256|\n",
      "|    50%|              566|\n",
      "|    75%|             2157|\n",
      "|    max|            40018|\n",
      "+-------+-----------------+\n",
      "\n"
     ]
    },
    {
     "data": {
      "text/plain": "'zero length count: 0'"
     },
     "metadata": {},
     "output_type": "display_data"
    },
    {
     "data": {
      "text/plain": "'valid length count (<= 512): 3198'"
     },
     "metadata": {},
     "output_type": "display_data"
    },
    {
     "data": {
      "text/plain": "'length count: 7009'"
     },
     "metadata": {},
     "output_type": "display_data"
    },
    {
     "data": {
      "text/plain": "'percent length <= 512 (max sequence length for ALBERT): 0.4562705093451277'"
     },
     "metadata": {},
     "output_type": "display_data"
    },
    {
     "data": {
      "text/plain": "<Figure size 432x288 with 1 Axes>",
      "image/png": "[encoded data removed]"
     },
     "metadata": {
      "needs_background": "light"
     },
     "output_type": "display_data"
    }
   ],
   "source": [
    "length = df.select(col(\"text.length\").getItem(0).alias(\"length\"))\n",
    "length.summary().show()\n",
    "display(f\"zero length count: {length.where(col('length') == 0).count()}\")\n",
    "length.toPandas().hist(bins=1000)\n",
    "valid_length_count = length.where(col('length') <= 512).count()\n",
    "display(f\"valid length count (<= 512): {valid_length_count}\")\n",
    "length_count = length.count()\n",
    "display(f\"length count: {length_count}\")\n",
    "display(f\"percent length <= 512 (max sequence length for ALBERT): {valid_length_count / length_count}\")"
   ],
   "metadata": {
    "collapsed": false,
    "pycharm": {
     "name": "#%%\n"
    }
   }
  },
  {
   "cell_type": "code",
   "execution_count": 28,
   "outputs": [
    {
     "name": "stdout",
     "output_type": "stream",
     "text": [
      "root\n",
      " |-- id: string (nullable = true)\n",
      " |-- label: byte (nullable = true)\n",
      " |-- text: struct (nullable = true)\n",
      " |    |-- input_ids: array (nullable = true)\n",
      " |    |    |-- element: short (containsNull = true)\n",
      " |    |-- attention_mask: array (nullable = true)\n",
      " |    |    |-- element: short (containsNull = true)\n",
      " |    |-- length: array (nullable = true)\n",
      " |    |    |-- element: integer (containsNull = true)\n",
      " |    |-- offset_mapping: array (nullable = true)\n",
      " |    |    |-- element: short (containsNull = true)\n",
      " |    |-- special_tokens_mask: array (nullable = true)\n",
      " |    |    |-- element: short (containsNull = true)\n",
      " |    |-- token_type_ids: array (nullable = true)\n",
      " |    |    |-- element: short (containsNull = true)\n",
      "\n",
      "+-------+--------------------+------------------+\n",
      "|summary|                  id|             label|\n",
      "+-------+--------------------+------------------+\n",
      "|  count|                3198|              3198|\n",
      "|   mean|                null|0.5100062539086929|\n",
      "| stddev|                null|1.7318864436500316|\n",
      "|    min|1119_BloomEnergy_...|                 0|\n",
      "|    25%|                null|                 0|\n",
      "|    50%|                null|                 0|\n",
      "|    75%|                null|                 0|\n",
      "|    max|visioneeredimages...|                11|\n",
      "+-------+--------------------+------------------+\n",
      "\n",
      "+-------+--------------------+------------------+\n",
      "|summary|                  id|             label|\n",
      "+-------+--------------------+------------------+\n",
      "|  count|                 276|               276|\n",
      "|   mean|                null| 5.909420289855072|\n",
      "| stddev|                null|1.6871013411888958|\n",
      "|    min|11535_ZetaInterac...|                 1|\n",
      "|    25%|                null|                 5|\n",
      "|    50%|                null|                 5|\n",
      "|    75%|                null|                 7|\n",
      "|    max|veralight_9192005...|                11|\n",
      "+-------+--------------------+------------------+\n",
      "\n"
     ]
    }
   ],
   "source": [
    "df = df.where(col(\"text.length\").getItem(0) <= 512)\n",
    "df.printSchema()\n",
    "df.summary().show()\n",
    "df.where(col(\"label\") > 0).summary().show()"
   ],
   "metadata": {
    "collapsed": false,
    "pycharm": {
     "name": "#%%\n"
    }
   }
  },
  {
   "cell_type": "code",
   "execution_count": 32,
   "outputs": [
    {
     "data": {
      "text/plain": "224"
     },
     "metadata": {},
     "output_type": "display_data"
    },
    {
     "data": {
      "text/plain": "2324"
     },
     "metadata": {},
     "output_type": "display_data"
    },
    {
     "data": {
      "text/plain": "2464"
     },
     "metadata": {},
     "output_type": "display_data"
    },
    {
     "data": {
      "text/plain": "2324"
     },
     "metadata": {},
     "output_type": "display_data"
    },
    {
     "name": "stdout",
     "output_type": "stream",
     "text": [
      "+-------+--------------------+------------------+\n",
      "|summary|                  id|             label|\n",
      "+-------+--------------------+------------------+\n",
      "|  count|                4788|              4788|\n",
      "|   mean|                null| 3.030284043441938|\n",
      "| stddev|                null|3.1790325453376633|\n",
      "|    min|1119_BloomEnergy_...|                 0|\n",
      "|    25%|                null|                 0|\n",
      "|    50%|                null|                 3|\n",
      "|    75%|                null|                 5|\n",
      "|    max|visioneeredimages...|                11|\n",
      "+-------+--------------------+------------------+\n",
      "\n",
      "+-------+--------------------+------------------+\n",
      "|summary|                  id|             label|\n",
      "+-------+--------------------+------------------+\n",
      "|  count|                 650|               650|\n",
      "|   mean|                null|              0.48|\n",
      "| stddev|                null|1.7002854831442469|\n",
      "|    min|1119_BloomEnergy_...|                 0|\n",
      "|    25%|                null|                 0|\n",
      "|    50%|                null|                 0|\n",
      "|    75%|                null|                 0|\n",
      "|    max|  turbine_072309.pdf|                10|\n",
      "+-------+--------------------+------------------+\n",
      "\n"
     ]
    }
   ],
   "source": [
    "nonzero = df.where(col(\"label\") > 0)\n",
    "nz_train, nz_test = nonzero.randomSplit([.8, .2], 42)\n",
    "zero = df.where(col(\"label\") == 0)\n",
    "z_train, z_test = zero.randomSplit([.8, .2], 42)\n",
    "display(nz_train.count(), z_train.count())\n",
    "_nz_train = nz_train\n",
    "for _ in range(int(z_train.count() / nz_train.count())):\n",
    "    _nz_train = _nz_train.union(nz_train)\n",
    "nz_train = _nz_train\n",
    "display(nz_train.count(), z_train.count())\n",
    "train = nz_train.union(z_train).orderBy(rand())\n",
    "test = nz_test.union(z_test).orderBy(rand())\n",
    "train.summary().show()\n",
    "test.summary().show()"
   ],
   "metadata": {
    "collapsed": false,
    "pycharm": {
     "name": "#%%\n"
    }
   }
  },
  {
   "cell_type": "code",
   "execution_count": 33,
   "outputs": [],
   "source": [
    "train.write.format(\"parquet\").mode(\"overwrite\").save(\"train.parquet\")\n",
    "test.write.format(\"parquet\").mode(\"overwrite\").save(\"test.parquet\")"
   ],
   "metadata": {
    "collapsed": false,
    "pycharm": {
     "name": "#%%\n"
    }
   }
  }
 ],
 "metadata": {
  "kernelspec": {
   "display_name": "Python 3",
   "language": "python",
   "name": "python3"
  },
  "language_info": {
   "codemirror_mode": {
    "name": "ipython",
    "version": 2
   },
   "file_extension": ".py",
   "mimetype": "text/x-python",
   "name": "python",
   "nbconvert_exporter": "python",
   "pygments_lexer": "ipython2",
   "version": "2.7.6"
  }
 },
 "nbformat": 4,
 "nbformat_minor": 0
}